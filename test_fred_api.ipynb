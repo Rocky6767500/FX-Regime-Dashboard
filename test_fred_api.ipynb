{
 "cells": [
  {
   "cell_type": "code",
   "execution_count": 2,
   "id": "8e00d5b2",
   "metadata": {},
   "outputs": [
    {
     "name": "stdout",
     "output_type": "stream",
     "text": [
      "2023-01-01    27216.445\n",
      "2023-04-01    27530.055\n",
      "2023-07-01    28074.846\n",
      "2023-10-01    28424.722\n",
      "2024-01-01    28708.161\n",
      "2024-04-01    29147.044\n",
      "2024-07-01    29511.664\n",
      "2024-10-01    29825.182\n",
      "2025-01-01    30042.113\n",
      "2025-04-01    30485.729\n",
      "dtype: float64\n",
      "                  GDP  GDP_%_Change\n",
      "Date                               \n",
      "2023-01-01  27216.445      1.665754\n",
      "2023-04-01  27530.055      1.152281\n",
      "2023-07-01  28074.846      1.978895\n",
      "2023-10-01  28424.722      1.246226\n",
      "2024-01-01  28708.161      0.997157\n",
      "2024-04-01  29147.044      1.528774\n",
      "2024-07-01  29511.664      1.250967\n",
      "2024-10-01  29825.182      1.062353\n",
      "2025-01-01  30042.113      0.727342\n",
      "2025-04-01  30485.729      1.476647\n",
      "\n",
      "LAST 10 QUARTERS - GDP PERCENT CHANGE (%)\n",
      "Date\n",
      "2023-01-01    1.67\n",
      "2023-04-01    1.15\n",
      "2023-07-01    1.98\n",
      "2023-10-01    1.25\n",
      "2024-01-01    1.00\n",
      "2024-04-01    1.53\n",
      "2024-07-01    1.25\n",
      "2024-10-01    1.06\n",
      "2025-01-01    0.73\n",
      "2025-04-01    1.48\n",
      "Name: GDP_%_Change, dtype: float64\n"
     ]
    }
   ],
   "source": [
    "from fredapi import Fred\n",
    "import os\n",
    "\n",
    "# ACCESS YOUR API KEY SECURELY\n",
    "fred = Fred(api_key=os.getenv('FRED_API_KEY'))\n",
    "\n",
    "# TEST: FETCH US GDP DATA\n",
    "data = fred.get_series('GDP')\n",
    "\n",
    "# SHOW LAST 10 OBSERVATIONS\n",
    "print(data.tail(10))\n",
    "from fredapi import Fred\n",
    "import os\n",
    "import pandas as pd\n",
    "\n",
    "# ACCESS YOUR API KEY SECURELY\n",
    "fred = Fred(api_key=os.getenv('FRED_API_KEY'))\n",
    "\n",
    "# FETCH QUARTERLY U.S. GDP DATA\n",
    "data = fred.get_series('GDP')\n",
    "\n",
    "# CONVERT TO DATAFRAME FOR EASIER HANDLING\n",
    "df = pd.DataFrame(data, columns=['GDP'])\n",
    "df.index.name = 'Date'\n",
    "\n",
    "# CALCULATE QUARTER-OVER-QUARTER PERCENT CHANGE\n",
    "df['GDP_%_Change'] = df['GDP'].pct_change() * 100\n",
    "\n",
    "# SHOW LAST 10 QUARTERS (BOTH GDP LEVEL AND % CHANGE)\n",
    "print(df.tail(10))\n",
    "\n",
    "# OPTIONAL: DISPLAY IN NICER FORMAT\n",
    "print(\"\\nLAST 10 QUARTERS - GDP PERCENT CHANGE (%)\")\n",
    "print(df['GDP_%_Change'].tail(10).round(2))\n"
   ]
  }
 ],
 "metadata": {
  "kernelspec": {
   "display_name": "Python 3",
   "language": "python",
   "name": "python3"
  },
  "language_info": {
   "codemirror_mode": {
    "name": "ipython",
    "version": 3
   },
   "file_extension": ".py",
   "mimetype": "text/x-python",
   "name": "python",
   "nbconvert_exporter": "python",
   "pygments_lexer": "ipython3",
   "version": "3.12.1"
  }
 },
 "nbformat": 4,
 "nbformat_minor": 5
}
